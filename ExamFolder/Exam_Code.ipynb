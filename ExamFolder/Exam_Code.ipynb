{
 "cells": [
  {
   "cell_type": "code",
   "execution_count": 41,
   "metadata": {},
   "outputs": [],
   "source": [
    "import numpy as np\n",
    "import matplotlib.pyplot as plt\n",
    "import pandas as pd\n",
    "from iminuit import Minuit\n",
    "from scipy import stats\n",
    "import math \n",
    "import sympy as sp\n",
    "from IPython.core.display import Latex\n",
    "from mpl_toolkits.axes_grid1.inset_locator import mark_inset"
   ]
  },
  {
   "cell_type": "code",
   "execution_count": 42,
   "metadata": {},
   "outputs": [],
   "source": [
    "sys.path.append('External_Functions')\n",
    "from ExternalFunctions import Chi2Regression, nice_string_output\n",
    "from ExternalFunctions import add_text_to_ax "
   ]
  },
  {
   "cell_type": "code",
   "execution_count": 87,
   "metadata": {},
   "outputs": [],
   "source": [
    "class Error_Prop:\n",
    "    def __init__(self, eq, sym_var, sym_err, vals, err_vals, corr):\n",
    "        self.eq = eq\n",
    "        self.sym_var = sym_var\n",
    "        self.sym_err = sym_err\n",
    "        self.vals = vals\n",
    "        self.corr = corr\n",
    "        self.covar = self.corr.copy()\n",
    "        for i in range(len(self.covar)):\n",
    "            for j in range(len(self.covar)):\n",
    "                self.covar[i][j] *= err_vals[i] * err_vals[j]\n",
    "        self.derivatives = [self.eq.diff(var) for var in sym_var]\n",
    "        self.functions = [sp.lambdify((*sym_var, *sym_err), derive) for derive in self.derivatives]\n",
    "        self.diff_vals = [func(*vals, *err_vals) for func in self.functions]\n",
    "\n",
    "    def get_propEq(self):\n",
    "        propEq = 0\n",
    "        for i in range(len(self.diff_vals)):\n",
    "            for j in range(len(self.diff_vals)):\n",
    "                propEq += self.derivatives[i] * self.derivatives[j] * self.corr[i][j]* self.sym_err[i] * self.sym_err[j]\n",
    "        return sp.sqrt(propEq)\n",
    "\n",
    "    def get_error(self):\n",
    "        error = 0\n",
    "        for i in range(len(self.diff_vals)):\n",
    "            for j in range(len(self.diff_vals)):\n",
    "                error += self.diff_vals[i] * self.diff_vals[j] * self.covar[i][j]\n",
    "        return np.sqrt(error)\n",
    "    \n",
    "    def get_contributions(self):\n",
    "        contributions = []\n",
    "        for i in range(len(self.diff_vals)):\n",
    "            contributions.append(self.diff_vals[i]**2 * self.covar[i][i])\n",
    "        return contributions\n",
    "    \n"
   ]
  },
  {
   "cell_type": "code",
   "execution_count": 88,
   "metadata": {},
   "outputs": [
    {
     "data": {
      "text/latex": [
       "$\\displaystyle 2.0 \\sqrt{0.25 \\sigma_{x}^{2} y^{2} + 0.25 \\sigma_{x} \\sigma_{y} x y + 0.25 \\sigma_{y}^{2} x^{2} + \\sigma_{z}^{2} z^{2}}$"
      ],
      "text/plain": [
       "2.0*sqrt(0.25*sigma_x**2*y**2 + 0.25*sigma_x*sigma_y*x*y + 0.25*sigma_y**2*x**2 + sigma_z**2*z**2)"
      ]
     },
     "metadata": {},
     "output_type": "display_data"
    },
    {
     "name": "stdout",
     "output_type": "stream",
     "text": [
      "10.597913049275315\n",
      "[1.4616810000000002, 6.230016000000001, 101.6064]\n"
     ]
    }
   ],
   "source": [
    "x, y, z = sp.symbols('x y z')\n",
    "dx, dy, dz = sp.symbols('sigma_x sigma_y sigma_z')\n",
    "\n",
    "vx = 1.92 \n",
    "vdx = 0.39\n",
    "\n",
    "vy = 3.1 \n",
    "vdy = 1.3\n",
    "\n",
    "vz = 4.2\n",
    "vdz = 1.2\n",
    "\n",
    "z1 = x*y + z**2 \n",
    "\n",
    "sym = np.array([x, y, z])\n",
    "sig_sym = np.array([dx, dy, dz])\n",
    "vals = np.array([vx, vy, vz])\n",
    "sig_vals = np.array([vdx, vdy, vdz])\n",
    "corr = np.array([[1, 0.5, 0], [0.5, 1, 0], [0, 0, 1]])\n",
    "\n",
    "propagator = Error_Prop(z1, sym, sig_sym, vals, sig_vals, corr)\n",
    "display(propagator.get_propEq())\n",
    "print(propagator.get_error())\n",
    "print(propagator.get_contributions())\n"
   ]
  },
  {
   "cell_type": "code",
   "execution_count": null,
   "metadata": {},
   "outputs": [],
   "source": [
    "def norm_gauss(x, mu, sigma):\n",
    "    return stats.norm.pdf(x, mu, sigma)\n",
    "\n",
    "def gauss(x, mu, sigma, N):\n",
    "    return N*norm_gauss(x, mu, sigma)\n",
    "\n",
    "def double_gauss(x, mu_1, sigma_1, mu_2, sigma_2, N, f):\n",
    "    return N*(f*norm_gauss(x, mu_1, sigma_1) + (1-f)*norm_gauss(x, mu_2, sigma_2))\n",
    "\n"
   ]
  },
  {
   "cell_type": "code",
   "execution_count": null,
   "metadata": {},
   "outputs": [],
   "source": [
    "def linear(x, a, b):\n",
    "    return a*x + b\n",
    "\n",
    "def poly2(x, a, b, c):\n",
    "    return a*x**2 + b*x + c\n",
    "\n",
    "def poly3(x, a, b, c, d):\n",
    "    return a*x**3 + b*x**2 + c*x + d\n",
    "    "
   ]
  },
  {
   "cell_type": "code",
   "execution_count": null,
   "metadata": {},
   "outputs": [],
   "source": [
    "def create_histogram(data, n_bins):\n",
    "    counts, bin_edges = np.histogram(data, bins=n_bins, density=True)\n",
    "    bin_centers = (bin_edges[:-1] + bin_edges[1:])/2\n",
    "    bin_width = bin_edges[1]-bin_edges[0]\n",
    "    return counts, bin_edges, bin_centers, bin_width\n"
   ]
  },
  {
   "cell_type": "code",
   "execution_count": null,
   "metadata": {},
   "outputs": [],
   "source": [
    "def accept_reject(N_points, xrange, yrange, random, func, *args):\n",
    "    N_tries = 0\n",
    "    accepted = []\n",
    "    for i in range(N_points):\n",
    "        while True:\n",
    "            N_tries += 1\n",
    "            x_test = random.uniform(*xrange)\n",
    "            y_test = random.uniform(*yrange)\n",
    "            if y_test < func(x_test, *args):\n",
    "                break\n",
    "        accepted.append(x_test)\n",
    "    return accepted, N_tries"
   ]
  },
  {
   "cell_type": "code",
   "execution_count": 90,
   "metadata": {},
   "outputs": [],
   "source": [
    "#Accept reject combined method\n",
    "\n",
    "def accept_reject_combi(N_points, random, func, test_func, inv_func, *args):\n",
    "    N_tries = 0\n",
    "    accepted = []\n",
    "    for i in range(N_points):\n",
    "        while True:\n",
    "            N_tries += 1\n",
    "            x_test = inv_func(random.uniform(size = 1))\n",
    "            y_test = random.uniform(0, test_func(x_test))\n",
    "            if y_test < func(x_test, *args):\n",
    "                break\n",
    "        accepted.append(x_test)\n",
    "    return accepted, N_tries"
   ]
  },
  {
   "cell_type": "code",
   "execution_count": null,
   "metadata": {},
   "outputs": [],
   "source": [
    "def evaluate_chi2(minuit_obj, len_counts):\n",
    "    chi2 = minuit_obj.fval\n",
    "    ndof = len_counts - len(minuit_obj.values[:])\n",
    "    chi2_prob = stats.chi2.sf(chi2, ndof)\n",
    "    return chi2, ndof, chi2_prob    "
   ]
  },
  {
   "cell_type": "code",
   "execution_count": null,
   "metadata": {},
   "outputs": [],
   "source": [
    "#Fisher method\n",
    "def fisher(data_1, data_2, w_0 = 0):\n",
    "    from numpy.linalg import inv\n",
    "    mu_1 = np.mean(data_1, axis=1)\n",
    "    mu_2 = np.mean(data_2, axis=1)\n",
    "    cov_sum = np.cov(data_1, rowvar=False) + np.cov(data_2, rowvar=False)\n",
    "    w = inv(cov_sum) @ (mu_1 - mu_2)\n",
    "    return w @ data_1 + w_0, w @ data_2 + w_0\n",
    "\n"
   ]
  },
  {
   "cell_type": "code",
   "execution_count": null,
   "metadata": {},
   "outputs": [],
   "source": [
    "#Decision tree?"
   ]
  },
  {
   "cell_type": "code",
   "execution_count": null,
   "metadata": {},
   "outputs": [],
   "source": [
    "#Roc curve\n"
   ]
  },
  {
   "cell_type": "code",
   "execution_count": null,
   "metadata": {},
   "outputs": [],
   "source": [
    "#Penalty for chi2"
   ]
  }
 ],
 "metadata": {
  "kernelspec": {
   "display_name": "base",
   "language": "python",
   "name": "python3"
  },
  "language_info": {
   "codemirror_mode": {
    "name": "ipython",
    "version": 3
   },
   "file_extension": ".py",
   "mimetype": "text/x-python",
   "name": "python",
   "nbconvert_exporter": "python",
   "pygments_lexer": "ipython3",
   "version": "3.8.3"
  },
  "orig_nbformat": 4,
  "vscode": {
   "interpreter": {
    "hash": "03deec06d70086c0ea37bc37e3f0bd3983c7c2742c740b83c6f9ec66897d3dbb"
   }
  }
 },
 "nbformat": 4,
 "nbformat_minor": 2
}
